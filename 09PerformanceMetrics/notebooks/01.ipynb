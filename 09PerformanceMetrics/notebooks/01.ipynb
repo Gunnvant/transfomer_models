{
 "cells": [
  {
   "cell_type": "markdown",
   "id": "78e6faba-9c45-41a5-b6cb-d16f0659ad09",
   "metadata": {},
   "source": [
    "------------------\n",
    "**Author**: Gunnvant\n",
    "\n",
    "**Description**: Overview of nlp tasks and their performance measurement\n",
    "\n",
    "------------------\n",
    "\n",
    "\n",
    "## Token Classification\n",
    "\n",
    "For each token class the following metrics are measured:\n",
    "\n",
    "1. Overall Precision (Number correct out of all the predicted)\n",
    "2. Overall Recall (Number of positive predictions out of all correct labels)\n",
    "3. Accuracy\n",
    "4. F1 Score $\\frac{P*R}{P+R}$\n",
    "\n",
    "## Text Summarization\n",
    "\n",
    "A ROUGE score is computed for measuring the performance of text summarization task. Ngrams of machine summarized texts are compared with human created summaries. From this Precision and Recall can be found out. Illustrative example below:\n",
    "\n",
    "![](ROUGE.png)\n",
    "\n",
    "## Question Answering\n",
    "\n",
    "Exact match and f1 score are the commonly used metrics. F1 score is computed by comparing the model predicted answers with answers in the dataset to arrive at precision and recall. From this precision and recall, the F1 score is computed\n",
    "\n",
    "## Translation\n",
    "\n",
    "We use the BLEU metric for translation. It computes the unigram, bigram, trigram and 4 gram clipped pr"
   ]
  },
  {
   "cell_type": "code",
   "execution_count": null,
   "id": "b64a1453-ffb9-4343-b281-fb160d031102",
   "metadata": {},
   "outputs": [],
   "source": []
  }
 ],
 "metadata": {
  "kernelspec": {
   "display_name": "Python 3 (ipykernel)",
   "language": "python",
   "name": "python3"
  },
  "language_info": {
   "codemirror_mode": {
    "name": "ipython",
    "version": 3
   },
   "file_extension": ".py",
   "mimetype": "text/x-python",
   "name": "python",
   "nbconvert_exporter": "python",
   "pygments_lexer": "ipython3",
   "version": "3.10.12"
  }
 },
 "nbformat": 4,
 "nbformat_minor": 5
}
