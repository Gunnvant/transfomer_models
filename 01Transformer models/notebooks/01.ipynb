{
 "cells": [
  {
   "cell_type": "code",
   "execution_count": 1,
   "id": "0841067e-966d-4177-ad93-4f1b238fc47a",
   "metadata": {
    "tags": []
   },
   "outputs": [
    {
     "name": "stderr",
     "output_type": "stream",
     "text": [
      "/Users/gunnvantsaini/miniforge3/envs/huggingface/lib/python3.10/site-packages/tqdm/auto.py:21: TqdmWarning: IProgress not found. Please update jupyter and ipywidgets. See https://ipywidgets.readthedocs.io/en/stable/user_install.html\n",
      "  from .autonotebook import tqdm as notebook_tqdm\n"
     ]
    }
   ],
   "source": [
    "from transformers import pipeline"
   ]
  },
  {
   "cell_type": "code",
   "execution_count": 5,
   "id": "b705cbbc-1932-4848-baef-f74b43a3d04a",
   "metadata": {
    "tags": []
   },
   "outputs": [
    {
     "name": "stderr",
     "output_type": "stream",
     "text": [
      "Downloading (…)lve/main/config.json: 100%|█████████████████████████████████████████████| 629/629 [00:00<00:00, 1.31MB/s]\n",
      "Downloading model.safetensors: 100%|█████████████████████████████████████████████████| 268M/268M [00:45<00:00, 5.92MB/s]\n",
      "Downloading (…)okenizer_config.json: 100%|███████████████████████████████████████████| 48.0/48.0 [00:00<00:00, 42.0kB/s]\n",
      "Downloading (…)solve/main/vocab.txt: 100%|███████████████████████████████████████████| 232k/232k [00:00<00:00, 31.5MB/s]\n"
     ]
    },
    {
     "data": {
      "text/plain": [
       "[{'label': 'POSITIVE', 'score': 0.9598050713539124}]"
      ]
     },
     "execution_count": 5,
     "metadata": {},
     "output_type": "execute_result"
    }
   ],
   "source": [
    "classifier = pipeline(\"sentiment-analysis\")\n",
    "classifier(\"I've been waiting for a HuggingFace course my whole life.\")"
   ]
  },
  {
   "cell_type": "code",
   "execution_count": 6,
   "id": "255fcfe5-35ec-43d8-8694-f621498b5c85",
   "metadata": {
    "tags": []
   },
   "outputs": [
    {
     "data": {
      "text/plain": [
       "[{'label': 'POSITIVE', 'score': 0.9598050713539124}]"
      ]
     },
     "execution_count": 6,
     "metadata": {},
     "output_type": "execute_result"
    }
   ],
   "source": [
    "classifier = pipeline(\"sentiment-analysis\",model=\"distilbert-base-uncased-finetuned-sst-2-english\")\n",
    "classifier(\"I've been waiting for a HuggingFace course my whole life.\")"
   ]
  },
  {
   "cell_type": "markdown",
   "id": "bf40341f-8730-439f-a2e0-c95bb2b84ce2",
   "metadata": {},
   "source": [
    "**See this [link](https://github.com/huggingface/transformers/blob/71688a8889c4df7dd6d90a65d895ccf4e33a1a56/src/transformers/pipelines.py#L2716-L2804) for the default models used in each pipeline**"
   ]
  },
  {
   "cell_type": "code",
   "execution_count": 7,
   "id": "0c9e1450-bec8-4914-a3be-e4f8977d23c7",
   "metadata": {
    "tags": []
   },
   "outputs": [
    {
     "name": "stderr",
     "output_type": "stream",
     "text": [
      "No model was supplied, defaulted to facebook/bart-large-mnli and revision c626438 (https://huggingface.co/facebook/bart-large-mnli).\n",
      "Using a pipeline without specifying a model name and revision in production is not recommended.\n",
      "Downloading (…)lve/main/config.json: 100%|█████████████████████████████████████████| 1.15k/1.15k [00:00<00:00, 1.87MB/s]\n",
      "Downloading model.safetensors: 100%|███████████████████████████████████████████████| 1.63G/1.63G [04:35<00:00, 5.92MB/s]\n",
      "Downloading (…)okenizer_config.json: 100%|███████████████████████████████████████████| 26.0/26.0 [00:00<00:00, 51.5kB/s]\n",
      "Downloading (…)olve/main/vocab.json: 100%|███████████████████████████████████████████| 899k/899k [00:00<00:00, 22.3MB/s]\n",
      "Downloading (…)olve/main/merges.txt: 100%|███████████████████████████████████████████| 456k/456k [00:00<00:00, 40.2MB/s]\n",
      "Downloading (…)/main/tokenizer.json: 100%|█████████████████████████████████████████| 1.36M/1.36M [00:00<00:00, 6.58MB/s]\n"
     ]
    },
    {
     "data": {
      "text/plain": [
       "{'sequence': 'This is a course about the Transformers library',\n",
       " 'labels': ['education', 'business', 'politics'],\n",
       " 'scores': [0.8445950150489807, 0.11197733134031296, 0.043427735567092896]}"
      ]
     },
     "execution_count": 7,
     "metadata": {},
     "output_type": "execute_result"
    }
   ],
   "source": [
    "classifier = pipeline(\"zero-shot-classification\")\n",
    "classifier(\n",
    "    \"This is a course about the Transformers library\",\n",
    "    candidate_labels=[\"education\", \"politics\", \"business\"],\n",
    ")"
   ]
  },
  {
   "cell_type": "code",
   "execution_count": 14,
   "id": "491c5398-c7fa-4ad3-97fd-cb08e71c443c",
   "metadata": {
    "tags": []
   },
   "outputs": [],
   "source": [
    "c= '''Hello, it's Scott Manley here. On Friday morning, Indian Space Research Organization launched Chandrayan 3 on its mission to the moon. And this was a big event. The livestream on YouTube had like 8 million people watching it. There is a huge amount of interest, national pride, just straight up excitement for this mission, which will hopefully land a spacecraft on the moon. And this is of course a follow up to Chandrayan 2, which unfortunately failed to complete this landing on the moon and crashed for well complicated reasons which have never quite been released to the public. The launch vehicle was the LVM3, formerly known as the geostationary launch vehicle Mark 3. This is the largest launch vehicle that India has. It has two large three-segment solid rocket motors, called the S200s. Those both light at T0. The core stage is powered by a pair of Vika Sensions burning UDMH and Dynatrogen T-Troxide.'''"
   ]
  },
  {
   "cell_type": "code",
   "execution_count": 13,
   "id": "368192e2-099a-4405-a8df-21512c0921df",
   "metadata": {
    "tags": []
   },
   "outputs": [
    {
     "name": "stderr",
     "output_type": "stream",
     "text": [
      "No model was supplied, defaulted to distilbert-base-cased-distilled-squad and revision 626af31 (https://huggingface.co/distilbert-base-cased-distilled-squad).\n",
      "Using a pipeline without specifying a model name and revision in production is not recommended.\n"
     ]
    },
    {
     "data": {
      "text/plain": [
       "{'score': 0.5154784917831421, 'start': 611, 'end': 615, 'answer': 'LVM3'}"
      ]
     },
     "execution_count": 13,
     "metadata": {},
     "output_type": "execute_result"
    }
   ],
   "source": [
    "question_answerer = pipeline(\"question-answering\")\n",
    "question_answerer(\n",
    "    question=\"Which launch vechicle is being used for Chandrayaan3\",\n",
    "    context=c)"
   ]
  },
  {
   "cell_type": "code",
   "execution_count": 12,
   "id": "e4b2b56e-2b8d-4bb9-a96d-dac1d2d6a45d",
   "metadata": {
    "tags": []
   },
   "outputs": [],
   "source": []
  },
  {
   "cell_type": "code",
   "execution_count": null,
   "id": "10e9d7ca-377c-49e0-84d8-490ecb41594e",
   "metadata": {},
   "outputs": [],
   "source": []
  }
 ],
 "metadata": {
  "kernelspec": {
   "display_name": "Python 3 (ipykernel)",
   "language": "python",
   "name": "python3"
  },
  "language_info": {
   "codemirror_mode": {
    "name": "ipython",
    "version": 3
   },
   "file_extension": ".py",
   "mimetype": "text/x-python",
   "name": "python",
   "nbconvert_exporter": "python",
   "pygments_lexer": "ipython3",
   "version": "3.10.12"
  }
 },
 "nbformat": 4,
 "nbformat_minor": 5
}
