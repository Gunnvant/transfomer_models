{
 "cells": [
  {
   "cell_type": "markdown",
   "id": "8ca60e0d-3f8c-4eac-95e4-a7d927eff08b",
   "metadata": {},
   "source": [
    "-----------\n",
    "**Author**: Gunnvant\n",
    "\n",
    "**Description**: Model and token api single example\n",
    "\n",
    "-----------\n"
   ]
  },
  {
   "cell_type": "code",
   "execution_count": 1,
   "id": "f660af3d-f2d8-47cd-becb-18cde8fd18f5",
   "metadata": {
    "tags": []
   },
   "outputs": [],
   "source": [
    "from transformers import AutoModelForQuestionAnswering\n",
    "from transformers import AutoTokenizer\n",
    "ckpt = \"distilbert-base-cased-distilled-squad\""
   ]
  },
  {
   "cell_type": "code",
   "execution_count": 2,
   "id": "26a126d0-88e2-4eed-be4e-b884c7c2d854",
   "metadata": {
    "tags": []
   },
   "outputs": [],
   "source": [
    "model = AutoModelForQuestionAnswering.from_pretrained(ckpt)\n",
    "tokenizer = AutoTokenizer.from_pretrained(ckpt)"
   ]
  },
  {
   "cell_type": "code",
   "execution_count": 7,
   "id": "fbe7cc09-ea27-4334-80c4-de305d62ed3a",
   "metadata": {
    "tags": []
   },
   "outputs": [],
   "source": [
    "ctx = '''And this meant that there was an error slowly building up as to where the impact point would be. And when it finally came out of this course, course breaking phase and decided to start trimming its trajectory, it realized that it was way too short for its target. And it wasn't sure how to actually make it to that target and ended up having a bunch of conflicting requirements because it wanted to make that very small target, but it couldn't make that very small target. And then some other issues got in the way. I would love to see the complete reports so I could break this down for you. But I guess the most important thing is that the engineers and scientists that have been working on Chandra and Three have been privy to the information and have made changes. They've understood what went wrong in the software. One thing that they're doing is they are expanding the range over which the lander is allowed to land. So if it does end up coming up short, it can be a little more cool with it. They've uncapped some of the rotation limits, which also apparently contributed. It's not clear why, but there have been physical changes to the lander hardware. The most obvious thing is that now it only has four engines, it no longer has a single central engine. Now the original Chandra end would land on that single central engine, but now it has four actually needs two of them to complete the landing because of the increased mass, the larger propellant tank. And that larger tank is really obvious when you put these two spacecraft side by side. So presumably that's going to allow for some extra sensors. I know there's going to be a laser Doppler velocity sensor that's going to be used for landing. I also understand there can be carrying more solar cells for you know, unusual attitudes they might end up with on the surface. The landing legs are going to be a whole lot a lot stronger. You can see the difference in the thickness of the landing pads between these two spacecraft. So that if it does come down a bit hard, it has a better chance of surviving. And hopefully around August 23rd, we should find out if all these changes have worked when it is going to make its landing attempt. Once again, the spacecraft is targeting a landing site that is far south close to the lunar south pole. I think the latitude is about 73 degrees south.'''"
   ]
  },
  {
   "cell_type": "code",
   "execution_count": 34,
   "id": "f5a74246-c56b-41fd-bc4b-7bdb9b7355fe",
   "metadata": {
    "tags": []
   },
   "outputs": [],
   "source": [
    "q = \"What changes have been made to chandrayaan?\""
   ]
  },
  {
   "cell_type": "code",
   "execution_count": 35,
   "id": "0afee823-fc27-4000-b2c4-17ac2330bf01",
   "metadata": {
    "tags": []
   },
   "outputs": [],
   "source": [
    "inputs = tokenizer(q, ctx, return_tensors=\"pt\")"
   ]
  },
  {
   "cell_type": "code",
   "execution_count": 36,
   "id": "d4ed44fd-024c-44ae-b7cf-3c12bc96159e",
   "metadata": {
    "tags": []
   },
   "outputs": [],
   "source": [
    "import torch"
   ]
  },
  {
   "cell_type": "code",
   "execution_count": 37,
   "id": "1437f195-3d1d-4d5d-9cf4-674ea42f32d4",
   "metadata": {
    "tags": []
   },
   "outputs": [],
   "source": [
    "with torch.no_grad():\n",
    "    outputs = model(**inputs)"
   ]
  },
  {
   "cell_type": "code",
   "execution_count": 38,
   "id": "4c4d887c-3d57-4c96-ac17-448cf45f4e9d",
   "metadata": {
    "tags": []
   },
   "outputs": [],
   "source": [
    "answer_start_index = outputs.start_logits.argmax()\n",
    "answer_end_index = outputs.end_logits.argmax()"
   ]
  },
  {
   "cell_type": "code",
   "execution_count": 39,
   "id": "f1918604-c359-4c5a-bac4-b2e89b4d0e77",
   "metadata": {
    "tags": []
   },
   "outputs": [],
   "source": [
    "predict_answer_tokens = inputs['input_ids'][0,answer_start_index:answer_end_index+1]"
   ]
  },
  {
   "cell_type": "code",
   "execution_count": 40,
   "id": "99c0b49d-9715-42a2-84c1-a3016ebed61b",
   "metadata": {
    "tags": []
   },
   "outputs": [
    {
     "data": {
      "text/plain": [
       "'engineers and scientists that have been working on Chandra and Three have been privy to the information'"
      ]
     },
     "execution_count": 40,
     "metadata": {},
     "output_type": "execute_result"
    }
   ],
   "source": [
    "tokenizer.decode(predict_answer_tokens)"
   ]
  },
  {
   "cell_type": "code",
   "execution_count": 41,
   "id": "4506ee9c-1cf5-458a-a377-977191cda714",
   "metadata": {
    "tags": []
   },
   "outputs": [
    {
     "data": {
      "text/plain": [
       "'four'"
      ]
     },
     "execution_count": 41,
     "metadata": {},
     "output_type": "execute_result"
    }
   ],
   "source": [
    "q = \"How many engines chandrayaan 3 has?\"\n",
    "inputs = tokenizer(q, ctx, return_tensors=\"pt\")\n",
    "with torch.no_grad():\n",
    "    outputs = model(**inputs)\n",
    "answer_start_index = outputs.start_logits.argmax()\n",
    "answer_end_index = outputs.end_logits.argmax()\n",
    "predict_answer_tokens = inputs['input_ids'][0,answer_start_index:answer_end_index+1]\n",
    "tokenizer.decode(predict_answer_tokens)"
   ]
  },
  {
   "cell_type": "markdown",
   "id": "6d19271e-a579-4b0d-86a6-af8564e2989d",
   "metadata": {},
   "source": [
    "It can probably answer simple questions but not more compicated ones."
   ]
  },
  {
   "cell_type": "code",
   "execution_count": null,
   "id": "abc1fee2-db3d-4cd8-9659-06ab4a92f06f",
   "metadata": {},
   "outputs": [],
   "source": []
  }
 ],
 "metadata": {
  "kernelspec": {
   "display_name": "Python 3 (ipykernel)",
   "language": "python",
   "name": "python3"
  },
  "language_info": {
   "codemirror_mode": {
    "name": "ipython",
    "version": 3
   },
   "file_extension": ".py",
   "mimetype": "text/x-python",
   "name": "python",
   "nbconvert_exporter": "python",
   "pygments_lexer": "ipython3",
   "version": "3.10.12"
  }
 },
 "nbformat": 4,
 "nbformat_minor": 5
}
