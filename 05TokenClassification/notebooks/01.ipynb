{
 "cells": [
  {
   "cell_type": "markdown",
   "id": "39d343ef-63fc-4e68-bcb4-5525072b9931",
   "metadata": {},
   "source": [
    "--------------------------------\n",
    "**Author**: Gunnvant \n",
    "\n",
    "**Description**: Data prep before hf datasets can be used\n",
    "\n",
    "---------------------------------"
   ]
  },
  {
   "cell_type": "code",
   "execution_count": 1,
   "id": "5c694802-64ca-4316-be01-42787c080bdf",
   "metadata": {
    "tags": []
   },
   "outputs": [],
   "source": [
    "import pandas as pd\n",
    "df = pd.read_csv(\"../ner.csv\")"
   ]
  },
  {
   "cell_type": "code",
   "execution_count": 2,
   "id": "9a7333dc-7d74-460d-898f-f75b2a0a40b9",
   "metadata": {
    "tags": []
   },
   "outputs": [
    {
     "data": {
      "text/html": [
       "<div>\n",
       "<style scoped>\n",
       "    .dataframe tbody tr th:only-of-type {\n",
       "        vertical-align: middle;\n",
       "    }\n",
       "\n",
       "    .dataframe tbody tr th {\n",
       "        vertical-align: top;\n",
       "    }\n",
       "\n",
       "    .dataframe thead th {\n",
       "        text-align: right;\n",
       "    }\n",
       "</style>\n",
       "<table border=\"1\" class=\"dataframe\">\n",
       "  <thead>\n",
       "    <tr style=\"text-align: right;\">\n",
       "      <th></th>\n",
       "      <th>Sentence_ID</th>\n",
       "      <th>Word</th>\n",
       "      <th>POS</th>\n",
       "      <th>Tag</th>\n",
       "    </tr>\n",
       "  </thead>\n",
       "  <tbody>\n",
       "    <tr>\n",
       "      <th>0</th>\n",
       "      <td>Sentence: 1</td>\n",
       "      <td>['Thousands', 'of', 'demonstrators', 'have', '...</td>\n",
       "      <td>['NNS', 'IN', 'NNS', 'VBP', 'VBN', 'IN', 'NNP'...</td>\n",
       "      <td>['O', 'O', 'O', 'O', 'O', 'O', 'B-geo', 'O', '...</td>\n",
       "    </tr>\n",
       "    <tr>\n",
       "      <th>1</th>\n",
       "      <td>Sentence: 10</td>\n",
       "      <td>['Iranian', 'officials', 'say', 'they', 'expec...</td>\n",
       "      <td>['JJ', 'NNS', 'VBP', 'PRP', 'VBP', 'TO', 'VB',...</td>\n",
       "      <td>['B-gpe', 'O', 'O', 'O', 'O', 'O', 'O', 'O', '...</td>\n",
       "    </tr>\n",
       "  </tbody>\n",
       "</table>\n",
       "</div>"
      ],
      "text/plain": [
       "    Sentence_ID                                               Word  \\\n",
       "0   Sentence: 1  ['Thousands', 'of', 'demonstrators', 'have', '...   \n",
       "1  Sentence: 10  ['Iranian', 'officials', 'say', 'they', 'expec...   \n",
       "\n",
       "                                                 POS  \\\n",
       "0  ['NNS', 'IN', 'NNS', 'VBP', 'VBN', 'IN', 'NNP'...   \n",
       "1  ['JJ', 'NNS', 'VBP', 'PRP', 'VBP', 'TO', 'VB',...   \n",
       "\n",
       "                                                 Tag  \n",
       "0  ['O', 'O', 'O', 'O', 'O', 'O', 'B-geo', 'O', '...  \n",
       "1  ['B-gpe', 'O', 'O', 'O', 'O', 'O', 'O', 'O', '...  "
      ]
     },
     "execution_count": 2,
     "metadata": {},
     "output_type": "execute_result"
    }
   ],
   "source": [
    "df.head(2)"
   ]
  },
  {
   "cell_type": "code",
   "execution_count": 3,
   "id": "73e0f8d9-ce50-4a6d-a056-221327374383",
   "metadata": {
    "tags": []
   },
   "outputs": [
    {
     "data": {
      "text/plain": [
       "0                             {B-gpe, B-geo, O}\n",
       "1                      {B-gpe, B-tim, O, B-org}\n",
       "2               {B-tim, O, I-geo, B-geo, B-org}\n",
       "3                                           {O}\n",
       "4        {I-per, B-tim, O, B-per, B-gpe, B-geo}\n",
       "                          ...                  \n",
       "47954                         {I-per, B-per, O}\n",
       "47955           {I-org, B-tim, O, B-gpe, B-org}\n",
       "47956                  {B-tim, I-tim, B-geo, O}\n",
       "47957                                       {O}\n",
       "47958           {I-org, B-tim, O, I-tim, B-org}\n",
       "Name: Tag, Length: 47959, dtype: object"
      ]
     },
     "execution_count": 3,
     "metadata": {},
     "output_type": "execute_result"
    }
   ],
   "source": [
    "import ast\n",
    "def get_unique_tags(row):\n",
    "    return set(ast.literal_eval(row))\n",
    "\n",
    "df['Tag'].map(get_unique_tags)## we need to find what are the unique labels"
   ]
  },
  {
   "cell_type": "code",
   "execution_count": 4,
   "id": "340d035c-8169-4fcb-bc1e-65ba39f523ba",
   "metadata": {
    "tags": []
   },
   "outputs": [],
   "source": [
    "tags = set()\n",
    "for t in df['Tag'].map(get_unique_tags):\n",
    "    tags.update(t)"
   ]
  },
  {
   "cell_type": "code",
   "execution_count": 5,
   "id": "c49aef6f-4dd7-48fb-ad3c-1435abc87390",
   "metadata": {
    "tags": []
   },
   "outputs": [
    {
     "data": {
      "text/plain": [
       "{'B-art',\n",
       " 'B-eve',\n",
       " 'B-geo',\n",
       " 'B-gpe',\n",
       " 'B-nat',\n",
       " 'B-org',\n",
       " 'B-per',\n",
       " 'B-tim',\n",
       " 'I-art',\n",
       " 'I-eve',\n",
       " 'I-geo',\n",
       " 'I-gpe',\n",
       " 'I-nat',\n",
       " 'I-org',\n",
       " 'I-per',\n",
       " 'I-tim',\n",
       " 'O'}"
      ]
     },
     "execution_count": 5,
     "metadata": {},
     "output_type": "execute_result"
    }
   ],
   "source": [
    "tags"
   ]
  },
  {
   "cell_type": "code",
   "execution_count": 6,
   "id": "3666bb5d-32a0-4631-852a-3fb2ad412959",
   "metadata": {
    "tags": []
   },
   "outputs": [],
   "source": [
    "tags = list(tags)\n",
    "tags_dict = {}\n",
    "for idx,item in enumerate(tags):\n",
    "    tags_dict[item]=idx"
   ]
  },
  {
   "cell_type": "code",
   "execution_count": 7,
   "id": "3ef660df-b4ae-4e0a-adb8-a0d0ab72dedd",
   "metadata": {
    "tags": []
   },
   "outputs": [
    {
     "data": {
      "text/plain": [
       "0        [11, 11, 11, 11, 11, 11, 7, 11, 11, 11, 11, 11...\n",
       "1        [16, 11, 11, 11, 11, 11, 11, 11, 11, 11, 11, 1...\n",
       "2        [11, 11, 12, 11, 11, 11, 11, 11, 7, 11, 11, 11...\n",
       "3             [11, 11, 11, 11, 11, 11, 11, 11, 11, 11, 11]\n",
       "4        [7, 11, 11, 15, 13, 11, 12, 11, 7, 11, 16, 11,...\n",
       "                               ...                        \n",
       "47954    [11, 11, 11, 15, 13, 11, 11, 11, 11, 11, 11, 1...\n",
       "47955    [11, 12, 11, 16, 11, 11, 11, 11, 11, 11, 11, 1...\n",
       "47956    [11, 7, 11, 11, 12, 5, 11, 11, 11, 11, 11, 11,...\n",
       "47957    [11, 11, 11, 11, 11, 11, 11, 11, 11, 11, 11, 1...\n",
       "47958    [11, 8, 0, 11, 11, 11, 11, 11, 11, 11, 11, 11,...\n",
       "Name: Tag, Length: 47959, dtype: object"
      ]
     },
     "execution_count": 7,
     "metadata": {},
     "output_type": "execute_result"
    }
   ],
   "source": [
    "def map_tags_to_idx(row):\n",
    "    return [tags_dict[i] for i in ast.literal_eval(row)]\n",
    "df['Tag'].map(map_tags_to_idx)"
   ]
  },
  {
   "cell_type": "code",
   "execution_count": 8,
   "id": "b5aa9be6-f504-4a93-a454-8c6a53df21bd",
   "metadata": {
    "tags": []
   },
   "outputs": [],
   "source": [
    "df['ner_tags']=df['Tag'].map(map_tags_to_idx)"
   ]
  },
  {
   "cell_type": "code",
   "execution_count": 9,
   "id": "0ee2a63b-03a7-47be-857d-436354cbfa34",
   "metadata": {
    "tags": []
   },
   "outputs": [],
   "source": [
    "import json\n",
    "with open(\"tag_mapping.json\",\"w\") as f:\n",
    "    json.dump(tags_dict,f)"
   ]
  },
  {
   "cell_type": "code",
   "execution_count": 10,
   "id": "ed513354-b246-4680-9d0e-ac2ec4bc406e",
   "metadata": {
    "tags": []
   },
   "outputs": [
    {
     "data": {
      "text/html": [
       "<div>\n",
       "<style scoped>\n",
       "    .dataframe tbody tr th:only-of-type {\n",
       "        vertical-align: middle;\n",
       "    }\n",
       "\n",
       "    .dataframe tbody tr th {\n",
       "        vertical-align: top;\n",
       "    }\n",
       "\n",
       "    .dataframe thead th {\n",
       "        text-align: right;\n",
       "    }\n",
       "</style>\n",
       "<table border=\"1\" class=\"dataframe\">\n",
       "  <thead>\n",
       "    <tr style=\"text-align: right;\">\n",
       "      <th></th>\n",
       "      <th>Sentence_ID</th>\n",
       "      <th>Word</th>\n",
       "      <th>POS</th>\n",
       "      <th>Tag</th>\n",
       "      <th>ner_tags</th>\n",
       "    </tr>\n",
       "  </thead>\n",
       "  <tbody>\n",
       "    <tr>\n",
       "      <th>0</th>\n",
       "      <td>Sentence: 1</td>\n",
       "      <td>['Thousands', 'of', 'demonstrators', 'have', '...</td>\n",
       "      <td>['NNS', 'IN', 'NNS', 'VBP', 'VBN', 'IN', 'NNP'...</td>\n",
       "      <td>['O', 'O', 'O', 'O', 'O', 'O', 'B-geo', 'O', '...</td>\n",
       "      <td>[11, 11, 11, 11, 11, 11, 7, 11, 11, 11, 11, 11...</td>\n",
       "    </tr>\n",
       "    <tr>\n",
       "      <th>1</th>\n",
       "      <td>Sentence: 10</td>\n",
       "      <td>['Iranian', 'officials', 'say', 'they', 'expec...</td>\n",
       "      <td>['JJ', 'NNS', 'VBP', 'PRP', 'VBP', 'TO', 'VB',...</td>\n",
       "      <td>['B-gpe', 'O', 'O', 'O', 'O', 'O', 'O', 'O', '...</td>\n",
       "      <td>[16, 11, 11, 11, 11, 11, 11, 11, 11, 11, 11, 1...</td>\n",
       "    </tr>\n",
       "    <tr>\n",
       "      <th>2</th>\n",
       "      <td>Sentence: 100</td>\n",
       "      <td>['Helicopter', 'gunships', 'Saturday', 'pounde...</td>\n",
       "      <td>['NN', 'NNS', 'NNP', 'VBD', 'JJ', 'NNS', 'IN',...</td>\n",
       "      <td>['O', 'O', 'B-tim', 'O', 'O', 'O', 'O', 'O', '...</td>\n",
       "      <td>[11, 11, 12, 11, 11, 11, 11, 11, 7, 11, 11, 11...</td>\n",
       "    </tr>\n",
       "    <tr>\n",
       "      <th>3</th>\n",
       "      <td>Sentence: 1000</td>\n",
       "      <td>['They', 'left', 'after', 'a', 'tense', 'hour-...</td>\n",
       "      <td>['PRP', 'VBD', 'IN', 'DT', 'NN', 'JJ', 'NN', '...</td>\n",
       "      <td>['O', 'O', 'O', 'O', 'O', 'O', 'O', 'O', 'O', ...</td>\n",
       "      <td>[11, 11, 11, 11, 11, 11, 11, 11, 11, 11, 11]</td>\n",
       "    </tr>\n",
       "    <tr>\n",
       "      <th>4</th>\n",
       "      <td>Sentence: 10000</td>\n",
       "      <td>['U.N.', 'relief', 'coordinator', 'Jan', 'Egel...</td>\n",
       "      <td>['NNP', 'NN', 'NN', 'NNP', 'NNP', 'VBD', 'NNP'...</td>\n",
       "      <td>['B-geo', 'O', 'O', 'B-per', 'I-per', 'O', 'B-...</td>\n",
       "      <td>[7, 11, 11, 15, 13, 11, 12, 11, 7, 11, 16, 11,...</td>\n",
       "    </tr>\n",
       "  </tbody>\n",
       "</table>\n",
       "</div>"
      ],
      "text/plain": [
       "       Sentence_ID                                               Word  \\\n",
       "0      Sentence: 1  ['Thousands', 'of', 'demonstrators', 'have', '...   \n",
       "1     Sentence: 10  ['Iranian', 'officials', 'say', 'they', 'expec...   \n",
       "2    Sentence: 100  ['Helicopter', 'gunships', 'Saturday', 'pounde...   \n",
       "3   Sentence: 1000  ['They', 'left', 'after', 'a', 'tense', 'hour-...   \n",
       "4  Sentence: 10000  ['U.N.', 'relief', 'coordinator', 'Jan', 'Egel...   \n",
       "\n",
       "                                                 POS  \\\n",
       "0  ['NNS', 'IN', 'NNS', 'VBP', 'VBN', 'IN', 'NNP'...   \n",
       "1  ['JJ', 'NNS', 'VBP', 'PRP', 'VBP', 'TO', 'VB',...   \n",
       "2  ['NN', 'NNS', 'NNP', 'VBD', 'JJ', 'NNS', 'IN',...   \n",
       "3  ['PRP', 'VBD', 'IN', 'DT', 'NN', 'JJ', 'NN', '...   \n",
       "4  ['NNP', 'NN', 'NN', 'NNP', 'NNP', 'VBD', 'NNP'...   \n",
       "\n",
       "                                                 Tag  \\\n",
       "0  ['O', 'O', 'O', 'O', 'O', 'O', 'B-geo', 'O', '...   \n",
       "1  ['B-gpe', 'O', 'O', 'O', 'O', 'O', 'O', 'O', '...   \n",
       "2  ['O', 'O', 'B-tim', 'O', 'O', 'O', 'O', 'O', '...   \n",
       "3  ['O', 'O', 'O', 'O', 'O', 'O', 'O', 'O', 'O', ...   \n",
       "4  ['B-geo', 'O', 'O', 'B-per', 'I-per', 'O', 'B-...   \n",
       "\n",
       "                                            ner_tags  \n",
       "0  [11, 11, 11, 11, 11, 11, 7, 11, 11, 11, 11, 11...  \n",
       "1  [16, 11, 11, 11, 11, 11, 11, 11, 11, 11, 11, 1...  \n",
       "2  [11, 11, 12, 11, 11, 11, 11, 11, 7, 11, 11, 11...  \n",
       "3       [11, 11, 11, 11, 11, 11, 11, 11, 11, 11, 11]  \n",
       "4  [7, 11, 11, 15, 13, 11, 12, 11, 7, 11, 16, 11,...  "
      ]
     },
     "execution_count": 10,
     "metadata": {},
     "output_type": "execute_result"
    }
   ],
   "source": [
    "df.head()"
   ]
  },
  {
   "cell_type": "code",
   "execution_count": 11,
   "id": "02ed030d-720b-4f32-86f9-7461362e80db",
   "metadata": {
    "tags": []
   },
   "outputs": [],
   "source": [
    "df[['Word','ner_tags']].to_csv(\"../preprocessed.csv\",index=False)"
   ]
  },
  {
   "cell_type": "code",
   "execution_count": null,
   "id": "9f145740-2b3e-4193-921d-6582bdf8fc52",
   "metadata": {},
   "outputs": [],
   "source": []
  }
 ],
 "metadata": {
  "kernelspec": {
   "display_name": "Python 3 (ipykernel)",
   "language": "python",
   "name": "python3"
  },
  "language_info": {
   "codemirror_mode": {
    "name": "ipython",
    "version": 3
   },
   "file_extension": ".py",
   "mimetype": "text/x-python",
   "name": "python",
   "nbconvert_exporter": "python",
   "pygments_lexer": "ipython3",
   "version": "3.10.12"
  }
 },
 "nbformat": 4,
 "nbformat_minor": 5
}
