{
 "cells": [
  {
   "cell_type": "markdown",
   "id": "45f4c9b7-6869-495a-9b2a-b1db54a885f3",
   "metadata": {},
   "source": [
    "-------------------\n",
    "**Author**: Gunnvant\n",
    "\n",
    "**Description**: Data prep for datasets library\n",
    "\n",
    "-------------------"
   ]
  },
  {
   "cell_type": "code",
   "execution_count": 15,
   "id": "7290fdae-b97b-4bc9-b2fa-45950c699470",
   "metadata": {
    "tags": []
   },
   "outputs": [],
   "source": [
    "def read_texts(base_path):\n",
    "    file_names = os.listdir(base_path)\n",
    "    file_names = [name for name in file_names if name.endswith(\"txt\")]\n",
    "    data = []\n",
    "    for name in file_names:\n",
    "        path = os.path.join(base_path,name)\n",
    "        with open(path,'r',encoding=\"ISO-8859-1\") as f:\n",
    "            data.append(f.read())\n",
    "    return data"
   ]
  },
  {
   "cell_type": "code",
   "execution_count": 16,
   "id": "3ead25aa-ab4a-4edc-848e-6370deadb754",
   "metadata": {
    "tags": []
   },
   "outputs": [],
   "source": [
    "import os"
   ]
  },
  {
   "cell_type": "code",
   "execution_count": 17,
   "id": "98f3e7dc-f6f3-4831-bd8f-b27cf32356fb",
   "metadata": {
    "tags": []
   },
   "outputs": [],
   "source": [
    "business_articles = read_texts(\"../BBC News Summary/BBC News Summary/News Articles/business\")"
   ]
  },
  {
   "cell_type": "code",
   "execution_count": 18,
   "id": "ff05bac9-f91f-4694-b697-e76290a5d778",
   "metadata": {
    "tags": []
   },
   "outputs": [],
   "source": [
    "entertainment_articles = read_texts(\"../BBC News Summary/BBC News Summary/News Articles/entertainment\")\n",
    "politics_articles = read_texts(\"../BBC News Summary/BBC News Summary/News Articles/politics\")\n",
    "sports_articles = read_texts(\"../BBC News Summary/BBC News Summary/News Articles/sport\")\n",
    "tech_articles = read_texts(\"../BBC News Summary/BBC News Summary/News Articles/tech\")"
   ]
  },
  {
   "cell_type": "code",
   "execution_count": 19,
   "id": "cef03dd7-9a57-4d3d-b53e-0ca6c165b833",
   "metadata": {
    "tags": []
   },
   "outputs": [],
   "source": [
    "business_summaries = read_texts(\"../BBC News Summary/BBC News Summary/Summaries/business\")\n",
    "entertainment_summaries = read_texts(\"../BBC News Summary/BBC News Summary/Summaries/entertainment\")\n",
    "politics_summaries = read_texts(\"../BBC News Summary/BBC News Summary/Summaries/politics\")\n",
    "sports_summaries = read_texts(\"../BBC News Summary/BBC News Summary/Summaries/sport\")\n",
    "tech_summaries = read_texts(\"../BBC News Summary/BBC News Summary/Summaries/tech\")"
   ]
  },
  {
   "cell_type": "code",
   "execution_count": 22,
   "id": "5021eac0-82f6-4aaf-bb04-ead9879aebdd",
   "metadata": {
    "tags": []
   },
   "outputs": [],
   "source": [
    "articles = business_articles+entertainment_articles+politics_articles+sports_articles+tech_articles\n",
    "summaries = business_summaries+entertainment_summaries+politics_summaries+sports_summaries+tech_summaries"
   ]
  },
  {
   "cell_type": "code",
   "execution_count": 23,
   "id": "5d187c9a-b605-4581-8b8c-a5dbb9a47b8c",
   "metadata": {
    "tags": []
   },
   "outputs": [],
   "source": [
    "import pandas as pd\n",
    "df = pd.DataFrame({'Text':articles,'Summary':summaries})"
   ]
  },
  {
   "cell_type": "code",
   "execution_count": 24,
   "id": "a5d285d7-38b0-43e3-8ce1-8dbd190bee55",
   "metadata": {
    "tags": []
   },
   "outputs": [
    {
     "data": {
      "text/html": [
       "<div>\n",
       "<style scoped>\n",
       "    .dataframe tbody tr th:only-of-type {\n",
       "        vertical-align: middle;\n",
       "    }\n",
       "\n",
       "    .dataframe tbody tr th {\n",
       "        vertical-align: top;\n",
       "    }\n",
       "\n",
       "    .dataframe thead th {\n",
       "        text-align: right;\n",
       "    }\n",
       "</style>\n",
       "<table border=\"1\" class=\"dataframe\">\n",
       "  <thead>\n",
       "    <tr style=\"text-align: right;\">\n",
       "      <th></th>\n",
       "      <th>Text</th>\n",
       "      <th>Summary</th>\n",
       "    </tr>\n",
       "  </thead>\n",
       "  <tbody>\n",
       "    <tr>\n",
       "      <th>0</th>\n",
       "      <td>UK economy facing 'major risks'\\n\\nThe UK manu...</td>\n",
       "      <td>\"Despite some positive news for the export sec...</td>\n",
       "    </tr>\n",
       "    <tr>\n",
       "      <th>1</th>\n",
       "      <td>Aids and climate top Davos agenda\\n\\nClimate c...</td>\n",
       "      <td>At the same time, about 100,000 people are exp...</td>\n",
       "    </tr>\n",
       "    <tr>\n",
       "      <th>2</th>\n",
       "      <td>Asian quake hits European shares\\n\\nShares in ...</td>\n",
       "      <td>The unfolding scale of the disaster in south A...</td>\n",
       "    </tr>\n",
       "    <tr>\n",
       "      <th>3</th>\n",
       "      <td>India power shares jump on debut\\n\\nShares in ...</td>\n",
       "      <td>Shares in India's largest power producer, Nati...</td>\n",
       "    </tr>\n",
       "    <tr>\n",
       "      <th>4</th>\n",
       "      <td>Lacroix label bought by US firm\\n\\nLuxury good...</td>\n",
       "      <td>LVMH said the French designer's haute couture ...</td>\n",
       "    </tr>\n",
       "  </tbody>\n",
       "</table>\n",
       "</div>"
      ],
      "text/plain": [
       "                                                Text  \\\n",
       "0  UK economy facing 'major risks'\\n\\nThe UK manu...   \n",
       "1  Aids and climate top Davos agenda\\n\\nClimate c...   \n",
       "2  Asian quake hits European shares\\n\\nShares in ...   \n",
       "3  India power shares jump on debut\\n\\nShares in ...   \n",
       "4  Lacroix label bought by US firm\\n\\nLuxury good...   \n",
       "\n",
       "                                             Summary  \n",
       "0  \"Despite some positive news for the export sec...  \n",
       "1  At the same time, about 100,000 people are exp...  \n",
       "2  The unfolding scale of the disaster in south A...  \n",
       "3  Shares in India's largest power producer, Nati...  \n",
       "4  LVMH said the French designer's haute couture ...  "
      ]
     },
     "execution_count": 24,
     "metadata": {},
     "output_type": "execute_result"
    }
   ],
   "source": [
    "df.head()"
   ]
  },
  {
   "cell_type": "code",
   "execution_count": 25,
   "id": "fe3011be-f0fc-45a4-b79c-38ec522a863a",
   "metadata": {
    "tags": []
   },
   "outputs": [],
   "source": [
    "df.to_csv(\"../processed_summary.csv\",index=False)"
   ]
  },
  {
   "cell_type": "code",
   "execution_count": null,
   "id": "1aebc9d5-333e-481e-adab-42292d1539b5",
   "metadata": {},
   "outputs": [],
   "source": []
  }
 ],
 "metadata": {
  "kernelspec": {
   "display_name": "Python 3 (ipykernel)",
   "language": "python",
   "name": "python3"
  },
  "language_info": {
   "codemirror_mode": {
    "name": "ipython",
    "version": 3
   },
   "file_extension": ".py",
   "mimetype": "text/x-python",
   "name": "python",
   "nbconvert_exporter": "python",
   "pygments_lexer": "ipython3",
   "version": "3.10.12"
  }
 },
 "nbformat": 4,
 "nbformat_minor": 5
}
