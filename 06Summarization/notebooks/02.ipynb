{
 "cells": [
  {
   "cell_type": "markdown",
   "id": "7c497d25-27d1-4550-976e-36bbab736a45",
   "metadata": {},
   "source": [
    "--------------------------\n",
    "**Author**: Gunnvant\n",
    "\n",
    "**Description**: Find the length statistics from training data\n",
    "\n",
    "-------------------------"
   ]
  },
  {
   "cell_type": "code",
   "execution_count": 1,
   "id": "332b6231-186a-439d-ae9a-82a4679a3722",
   "metadata": {
    "tags": []
   },
   "outputs": [],
   "source": [
    "import pandas as pd\n",
    "df = pd.read_csv(\"../processed_summary.csv\")"
   ]
  },
  {
   "cell_type": "code",
   "execution_count": 2,
   "id": "e79146c5-2de4-4949-8dfb-889a1e7ee0ce",
   "metadata": {
    "tags": []
   },
   "outputs": [
    {
     "data": {
      "text/html": [
       "<div>\n",
       "<style scoped>\n",
       "    .dataframe tbody tr th:only-of-type {\n",
       "        vertical-align: middle;\n",
       "    }\n",
       "\n",
       "    .dataframe tbody tr th {\n",
       "        vertical-align: top;\n",
       "    }\n",
       "\n",
       "    .dataframe thead th {\n",
       "        text-align: right;\n",
       "    }\n",
       "</style>\n",
       "<table border=\"1\" class=\"dataframe\">\n",
       "  <thead>\n",
       "    <tr style=\"text-align: right;\">\n",
       "      <th></th>\n",
       "      <th>Text</th>\n",
       "      <th>Summary</th>\n",
       "    </tr>\n",
       "  </thead>\n",
       "  <tbody>\n",
       "    <tr>\n",
       "      <th>0</th>\n",
       "      <td>UK economy facing 'major risks'\\n\\nThe UK manu...</td>\n",
       "      <td>\"Despite some positive news for the export sec...</td>\n",
       "    </tr>\n",
       "    <tr>\n",
       "      <th>1</th>\n",
       "      <td>Aids and climate top Davos agenda\\n\\nClimate c...</td>\n",
       "      <td>At the same time, about 100,000 people are exp...</td>\n",
       "    </tr>\n",
       "  </tbody>\n",
       "</table>\n",
       "</div>"
      ],
      "text/plain": [
       "                                                Text  \\\n",
       "0  UK economy facing 'major risks'\\n\\nThe UK manu...   \n",
       "1  Aids and climate top Davos agenda\\n\\nClimate c...   \n",
       "\n",
       "                                             Summary  \n",
       "0  \"Despite some positive news for the export sec...  \n",
       "1  At the same time, about 100,000 people are exp...  "
      ]
     },
     "execution_count": 2,
     "metadata": {},
     "output_type": "execute_result"
    }
   ],
   "source": [
    "df.head(2)"
   ]
  },
  {
   "cell_type": "code",
   "execution_count": 3,
   "id": "01e8db9f-06e1-4782-a77a-d2b0f212dab7",
   "metadata": {
    "tags": []
   },
   "outputs": [],
   "source": [
    "def get_len(row):\n",
    "    return len(row.split(\" \"))"
   ]
  },
  {
   "cell_type": "code",
   "execution_count": 5,
   "id": "d479161b-d245-4f8b-9be5-64def3bb6036",
   "metadata": {
    "tags": []
   },
   "outputs": [],
   "source": [
    "df['len_ques'] = df['Text'].map(get_len)\n",
    "df['len_summary'] = df['Summary'].map(get_len)"
   ]
  },
  {
   "cell_type": "code",
   "execution_count": 11,
   "id": "9acd8095-3523-465f-bc21-922c1975708f",
   "metadata": {
    "tags": []
   },
   "outputs": [
    {
     "data": {
      "text/plain": [
       "723.0"
      ]
     },
     "execution_count": 11,
     "metadata": {},
     "output_type": "execute_result"
    }
   ],
   "source": [
    "df['len_ques'].quantile(0.95)"
   ]
  },
  {
   "cell_type": "code",
   "execution_count": 7,
   "id": "c14a09aa-aa56-46c6-a159-333a9c37662a",
   "metadata": {
    "tags": []
   },
   "outputs": [
    {
     "data": {
      "text/plain": [
       "313.0"
      ]
     },
     "execution_count": 7,
     "metadata": {},
     "output_type": "execute_result"
    }
   ],
   "source": [
    "df['len_summary'].quantile(0.95)"
   ]
  },
  {
   "cell_type": "code",
   "execution_count": 9,
   "id": "110ee287-64ce-4f46-b50f-7cd373944fb6",
   "metadata": {
    "tags": []
   },
   "outputs": [
    {
     "name": "stdout",
     "output_type": "stream",
     "text": [
      "327.0\n",
      "142.0\n"
     ]
    }
   ],
   "source": [
    "print(df['len_ques'].quantile(0.5))\n",
    "print(df['len_summary'].quantile(0.5))"
   ]
  },
  {
   "cell_type": "code",
   "execution_count": null,
   "id": "21c772d6-102d-4eb5-a327-6dfcfe805e8a",
   "metadata": {},
   "outputs": [],
   "source": []
  }
 ],
 "metadata": {
  "kernelspec": {
   "display_name": "Python 3 (ipykernel)",
   "language": "python",
   "name": "python3"
  },
  "language_info": {
   "codemirror_mode": {
    "name": "ipython",
    "version": 3
   },
   "file_extension": ".py",
   "mimetype": "text/x-python",
   "name": "python",
   "nbconvert_exporter": "python",
   "pygments_lexer": "ipython3",
   "version": "3.10.12"
  }
 },
 "nbformat": 4,
 "nbformat_minor": 5
}
