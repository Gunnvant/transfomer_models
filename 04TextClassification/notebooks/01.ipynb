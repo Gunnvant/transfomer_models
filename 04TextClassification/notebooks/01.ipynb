{
 "cells": [
  {
   "cell_type": "markdown",
   "id": "2276707a-ed9c-4f09-9443-3e34f4407ad2",
   "metadata": {},
   "source": [
    "---------------\n",
    "**Author**: Gunnvant \n",
    "\n",
    "**Description**: Basic pipeline for text classification training\n",
    "\n",
    "------------------"
   ]
  },
  {
   "cell_type": "code",
   "execution_count": 1,
   "id": "ab6208ce-dc47-43b6-8a63-6662f7272665",
   "metadata": {
    "tags": []
   },
   "outputs": [
    {
     "name": "stderr",
     "output_type": "stream",
     "text": [
      "/Users/gunnvantsaini/miniforge3/envs/huggingface/lib/python3.10/site-packages/tqdm/auto.py:21: TqdmWarning: IProgress not found. Please update jupyter and ipywidgets. See https://ipywidgets.readthedocs.io/en/stable/user_install.html\n",
      "  from .autonotebook import tqdm as notebook_tqdm\n"
     ]
    }
   ],
   "source": [
    "from datasets import load_dataset"
   ]
  },
  {
   "cell_type": "code",
   "execution_count": 2,
   "id": "7c3780b7-0948-4e79-b410-53ecab2402ff",
   "metadata": {},
   "outputs": [],
   "source": [
    "raw_dataset = load_dataset('csv',data_files=\"../dataset.csv\")"
   ]
  },
  {
   "cell_type": "code",
   "execution_count": 3,
   "id": "92050f6a-8ca1-4dba-a9ef-359b70a5e7c8",
   "metadata": {
    "tags": []
   },
   "outputs": [],
   "source": [
    "train_test_dataset = raw_dataset['train'].train_test_split(0.20)"
   ]
  },
  {
   "cell_type": "code",
   "execution_count": 4,
   "id": "66527bf5-5973-43ee-99df-54741e120b30",
   "metadata": {
    "tags": []
   },
   "outputs": [],
   "source": [
    "test_valid = train_test_dataset['test'].train_test_split(0.1)"
   ]
  },
  {
   "cell_type": "code",
   "execution_count": 5,
   "id": "1481c637-89f4-436f-9cb2-a1ed23b4a940",
   "metadata": {
    "tags": []
   },
   "outputs": [],
   "source": [
    "from datasets import DatasetDict\n",
    "train_test_valid = DatasetDict({\n",
    "'train':train_test_dataset['train'],\n",
    " 'test': test_valid['train'],\n",
    "'valid': test_valid['test']\n",
    "})"
   ]
  },
  {
   "cell_type": "code",
   "execution_count": 6,
   "id": "886d5355-ce2d-488a-b661-fd038865c0ad",
   "metadata": {
    "tags": []
   },
   "outputs": [
    {
     "data": {
      "text/plain": [
       "{'text': [\"Shaved my girlfriend's cat. think she'll take the hint?\",\n",
       "  \"Rare video shows insane waterslide at new jersey's deadliest theme park\",\n",
       "  'I got a puppy for my daughter... good swap if you ask me.'],\n",
       " 'humor': [True, False, True]}"
      ]
     },
     "execution_count": 6,
     "metadata": {},
     "output_type": "execute_result"
    }
   ],
   "source": [
    "train_test_valid['train'][0:3]"
   ]
  },
  {
   "cell_type": "code",
   "execution_count": 7,
   "id": "2af324f4-e877-4c0d-93dc-5feb15c8c94d",
   "metadata": {
    "tags": []
   },
   "outputs": [],
   "source": [
    "def get_label(example):\n",
    "    example['label'] = int(example['humor'])\n",
    "    return example"
   ]
  },
  {
   "cell_type": "code",
   "execution_count": 8,
   "id": "be68b259-e0d2-49a4-8387-7cfc17dd0a1c",
   "metadata": {},
   "outputs": [
    {
     "name": "stderr",
     "output_type": "stream",
     "text": [
      "Map: 100%|██████████████████████████████████████████████████████| 160000/160000 [00:07<00:00, 22024.11 examples/s]\n",
      "Map: 100%|████████████████████████████████████████████████████████| 36000/36000 [00:01<00:00, 19029.64 examples/s]\n",
      "Map: 100%|██████████████████████████████████████████████████████████| 4000/4000 [00:00<00:00, 23286.29 examples/s]\n"
     ]
    }
   ],
   "source": [
    "data_with_label=train_test_valid.map(get_label)"
   ]
  },
  {
   "cell_type": "code",
   "execution_count": 9,
   "id": "571fbe3e-4e64-4cb6-a034-1530a34d097c",
   "metadata": {
    "tags": []
   },
   "outputs": [],
   "source": [
    "from transformers import AutoTokenizer,AutoModelForSequenceClassification\n",
    "ckpt=\"distilbert-base-uncased\""
   ]
  },
  {
   "cell_type": "code",
   "execution_count": 10,
   "id": "15e4e266-360d-4743-8819-d03fd371a1be",
   "metadata": {
    "tags": []
   },
   "outputs": [
    {
     "name": "stderr",
     "output_type": "stream",
     "text": [
      "Some weights of DistilBertForSequenceClassification were not initialized from the model checkpoint at distilbert-base-uncased and are newly initialized: ['classifier.weight', 'pre_classifier.bias', 'pre_classifier.weight', 'classifier.bias']\n",
      "You should probably TRAIN this model on a down-stream task to be able to use it for predictions and inference.\n"
     ]
    }
   ],
   "source": [
    "tokenizer = AutoTokenizer.from_pretrained(ckpt)\n",
    "id2label = {0: \"NotHumour\", 1: \"Humour\"}\n",
    "label2id = {\"NotHumour\": 0, \"Humour\": 1}\n",
    "model = AutoModelForSequenceClassification.from_pretrained(ckpt,num_labels=2,id2label=id2label,label2id=label2id)"
   ]
  },
  {
   "cell_type": "code",
   "execution_count": 11,
   "id": "de97cd70-f751-4bbb-8c0d-f1515f189562",
   "metadata": {
    "tags": []
   },
   "outputs": [],
   "source": [
    "def preprocess_function(examples):\n",
    "    return tokenizer(examples[\"text\"], truncation=True)"
   ]
  },
  {
   "cell_type": "code",
   "execution_count": 12,
   "id": "62158f5f-bf4e-438c-95c8-65706a156654",
   "metadata": {
    "tags": []
   },
   "outputs": [
    {
     "name": "stderr",
     "output_type": "stream",
     "text": [
      "Map: 100%|███████████████████████████████████████████████████████| 160000/160000 [00:24<00:00, 6612.69 examples/s]\n",
      "Map: 100%|█████████████████████████████████████████████████████████| 36000/36000 [00:05<00:00, 7147.28 examples/s]\n",
      "Map: 100%|███████████████████████████████████████████████████████████| 4000/4000 [00:00<00:00, 7412.43 examples/s]\n"
     ]
    }
   ],
   "source": [
    "from transformers import DataCollatorWithPadding\n",
    "data_collator = DataCollatorWithPadding(tokenizer=tokenizer)\n",
    "data_with_label = data_with_label.map(preprocess_function)"
   ]
  },
  {
   "cell_type": "code",
   "execution_count": 13,
   "id": "338594a7-7323-4775-9956-00c800b90aa4",
   "metadata": {
    "tags": []
   },
   "outputs": [],
   "source": [
    "## Setup evaluation metrics\n",
    "import evaluate\n",
    "acc=evaluate.load(\"accuracy\")"
   ]
  },
  {
   "cell_type": "code",
   "execution_count": 14,
   "id": "fb1eac2b-2d37-4ca1-8313-bd97e5408670",
   "metadata": {},
   "outputs": [],
   "source": [
    "import numpy as np\n",
    "def compute_metrics(eval_pred):\n",
    "    predictions, labels = eval_pred\n",
    "    predictions = np.argmax(predictions, axis=1)\n",
    "    return accuracy.compute(predictions=predictions, references=labels)"
   ]
  },
  {
   "cell_type": "code",
   "execution_count": 15,
   "id": "a7ea87cd-ac18-45fa-9d07-6cd48b295572",
   "metadata": {},
   "outputs": [],
   "source": [
    "## Training arguments\n",
    "from transformers import Trainer, TrainingArguments"
   ]
  },
  {
   "cell_type": "code",
   "execution_count": 20,
   "id": "50671b49-3218-4ed4-9cc4-732e8d3a0d56",
   "metadata": {
    "tags": []
   },
   "outputs": [],
   "source": [
    "training_args = TrainingArguments(\n",
    "    output_dir=\"humour_detector\",\n",
    "    learning_rate=2e-5,\n",
    "    per_device_train_batch_size=16,\n",
    "    per_device_eval_batch_size=16,\n",
    "    num_train_epochs=1,\n",
    "    weight_decay=0.01,\n",
    "    evaluation_strategy=\"epoch\",\n",
    "    save_strategy=\"epoch\",\n",
    "    load_best_model_at_end=True,\n",
    "    push_to_hub=False,\n",
    ")"
   ]
  },
  {
   "cell_type": "code",
   "execution_count": 21,
   "id": "22f73e3b-c1a4-4937-a857-90c4f03169c5",
   "metadata": {
    "tags": []
   },
   "outputs": [],
   "source": [
    "trainer = Trainer(\n",
    "    model=model,\n",
    "    args=training_args,\n",
    "    train_dataset=data_with_label[\"train\"],\n",
    "    eval_dataset=data_with_label[\"valid\"],\n",
    "    tokenizer=tokenizer,\n",
    "    data_collator=data_collator,\n",
    "    compute_metrics=compute_metrics,\n",
    ")"
   ]
  },
  {
   "cell_type": "code",
   "execution_count": null,
   "id": "f9ba6a5c-3934-408e-9266-acdb5147a54f",
   "metadata": {
    "tags": []
   },
   "outputs": [],
   "source": [
    "trainer.train()"
   ]
  },
  {
   "cell_type": "code",
   "execution_count": null,
   "id": "e8572dda-e608-453e-974b-78df8d052143",
   "metadata": {},
   "outputs": [],
   "source": []
  }
 ],
 "metadata": {
  "kernelspec": {
   "display_name": "Python 3 (ipykernel)",
   "language": "python",
   "name": "python3"
  },
  "language_info": {
   "codemirror_mode": {
    "name": "ipython",
    "version": 3
   },
   "file_extension": ".py",
   "mimetype": "text/x-python",
   "name": "python",
   "nbconvert_exporter": "python",
   "pygments_lexer": "ipython3",
   "version": "3.10.12"
  }
 },
 "nbformat": 4,
 "nbformat_minor": 5
}
